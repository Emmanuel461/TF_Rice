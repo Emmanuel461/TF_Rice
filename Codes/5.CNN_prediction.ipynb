{
 "cells": [
  {
   "cell_type": "markdown",
   "metadata": {},
   "source": []
  },
  {
   "cell_type": "markdown",
   "metadata": {},
   "source": [
    "## Extact planet data"
   ]
  },
  {
   "cell_type": "code",
   "execution_count": 1,
   "metadata": {},
   "outputs": [],
   "source": [
    "# Importar las bibliotecas necesarias\n",
    "import geemap\n",
    "import ee\n",
    "import geopandas as gpd\n",
    "import json\n",
    "import pandas as pd"
   ]
  },
  {
   "cell_type": "code",
   "execution_count": 2,
   "metadata": {},
   "outputs": [
    {
     "data": {
      "text/html": [
       "\n",
       "            <style>\n",
       "                .geemap-dark {\n",
       "                    --jp-widgets-color: white;\n",
       "                    --jp-widgets-label-color: white;\n",
       "                    --jp-ui-font-color1: white;\n",
       "                    --jp-layout-color2: #454545;\n",
       "                    background-color: #383838;\n",
       "                }\n",
       "\n",
       "                .geemap-dark .jupyter-button {\n",
       "                    --jp-layout-color3: #383838;\n",
       "                }\n",
       "\n",
       "                .geemap-colab {\n",
       "                    background-color: var(--colab-primary-surface-color, white);\n",
       "                }\n",
       "\n",
       "                .geemap-colab .jupyter-button {\n",
       "                    --jp-layout-color3: var(--colab-primary-surface-color, white);\n",
       "                }\n",
       "            </style>\n",
       "            "
      ],
      "text/plain": [
       "<IPython.core.display.HTML object>"
      ]
     },
     "metadata": {},
     "output_type": "display_data"
    },
    {
     "data": {
      "text/html": [
       "<p>To authorize access needed by Earth Engine, open the following\n",
       "        URL in a web browser and follow the instructions:</p>\n",
       "        <p><a href=https://code.earthengine.google.com/client-auth?scopes=https%3A//www.googleapis.com/auth/earthengine%20https%3A//www.googleapis.com/auth/cloud-platform%20https%3A//www.googleapis.com/auth/devstorage.full_control&request_id=UFL_jjkqXwSy82RrO9j7V_Z57IpZ4QxPH_CWAIRp_kc&tc=xvtHGqtTN57bmDPbh5eLm-93zXJxjXdoCLEZw2vzRHg&cc=44epM6QoW_WvXc9LodYdna8bqkcJ1vd9OT8bLkK464Q>https://code.earthengine.google.com/client-auth?scopes=https%3A//www.googleapis.com/auth/earthengine%20https%3A//www.googleapis.com/auth/cloud-platform%20https%3A//www.googleapis.com/auth/devstorage.full_control&request_id=UFL_jjkqXwSy82RrO9j7V_Z57IpZ4QxPH_CWAIRp_kc&tc=xvtHGqtTN57bmDPbh5eLm-93zXJxjXdoCLEZw2vzRHg&cc=44epM6QoW_WvXc9LodYdna8bqkcJ1vd9OT8bLkK464Q</a></p>\n",
       "        <p>The authorization workflow will generate a code, which you should paste in the box below.</p>\n",
       "        "
      ],
      "text/plain": [
       "<IPython.core.display.HTML object>"
      ]
     },
     "metadata": {},
     "output_type": "display_data"
    },
    {
     "name": "stdout",
     "output_type": "stream",
     "text": [
      "\n",
      "Successfully saved authorization token.\n"
     ]
    }
   ],
   "source": [
    "# Autenticación y inicialización de GEE\n",
    "ee.Authenticate()\n",
    "ee.Initialize()\n"
   ]
  },
  {
   "cell_type": "code",
   "execution_count": 9,
   "metadata": {},
   "outputs": [
    {
     "data": {
      "text/html": [
       "\n",
       "            <style>\n",
       "                .geemap-dark {\n",
       "                    --jp-widgets-color: white;\n",
       "                    --jp-widgets-label-color: white;\n",
       "                    --jp-ui-font-color1: white;\n",
       "                    --jp-layout-color2: #454545;\n",
       "                    background-color: #383838;\n",
       "                }\n",
       "\n",
       "                .geemap-dark .jupyter-button {\n",
       "                    --jp-layout-color3: #383838;\n",
       "                }\n",
       "\n",
       "                .geemap-colab {\n",
       "                    background-color: var(--colab-primary-surface-color, white);\n",
       "                }\n",
       "\n",
       "                .geemap-colab .jupyter-button {\n",
       "                    --jp-layout-color3: var(--colab-primary-surface-color, white);\n",
       "                }\n",
       "            </style>\n",
       "            "
      ],
      "text/plain": [
       "<IPython.core.display.HTML object>"
      ]
     },
     "metadata": {},
     "output_type": "display_data"
    },
    {
     "data": {
      "application/vnd.jupyter.widget-view+json": {
       "model_id": "2be3ee611295459483fc5c088e9ca647",
       "version_major": 2,
       "version_minor": 0
      },
      "text/plain": [
       "Map(center=[12.2, -16.36], controls=(WidgetControl(options=['position', 'transparent_bg'], widget=SearchDataGU…"
      ]
     },
     "metadata": {},
     "output_type": "display_data"
    }
   ],
   "source": [
    "# Configurar el mapa\n",
    "Map = geemap.Map(center=(12.20, -16.36), zoom=12)\n",
    "Map"
   ]
  },
  {
   "cell_type": "code",
   "execution_count": null,
   "metadata": {},
   "outputs": [],
   "source": [
    "Map.user_roi.getInfo()"
   ]
  },
  {
   "cell_type": "code",
   "execution_count": 5,
   "metadata": {},
   "outputs": [
    {
     "data": {
      "text/html": [
       "\n",
       "            <style>\n",
       "                .geemap-dark {\n",
       "                    --jp-widgets-color: white;\n",
       "                    --jp-widgets-label-color: white;\n",
       "                    --jp-ui-font-color1: white;\n",
       "                    --jp-layout-color2: #454545;\n",
       "                    background-color: #383838;\n",
       "                }\n",
       "\n",
       "                .geemap-dark .jupyter-button {\n",
       "                    --jp-layout-color3: #383838;\n",
       "                }\n",
       "\n",
       "                .geemap-colab {\n",
       "                    background-color: var(--colab-primary-surface-color, white);\n",
       "                }\n",
       "\n",
       "                .geemap-colab .jupyter-button {\n",
       "                    --jp-layout-color3: var(--colab-primary-surface-color, white);\n",
       "                }\n",
       "            </style>\n",
       "            "
      ],
      "text/plain": [
       "<IPython.core.display.HTML object>"
      ]
     },
     "metadata": {},
     "output_type": "display_data"
    }
   ],
   "source": [
    "# Asegurarnos de la creación de una geometría\n",
    "geometry = ee.Geometry.Polygon([[[-16.459229, 12.239944],\n",
    "   [-16.459229, 12.251184],\n",
    "   [-16.426816, 12.251184],\n",
    "   [-16.426816, 12.239944],\n",
    "   [-16.459229, 12.239944]]])"
   ]
  },
  {
   "cell_type": "code",
   "execution_count": 10,
   "metadata": {},
   "outputs": [
    {
     "data": {
      "text/html": [
       "\n",
       "            <style>\n",
       "                .geemap-dark {\n",
       "                    --jp-widgets-color: white;\n",
       "                    --jp-widgets-label-color: white;\n",
       "                    --jp-ui-font-color1: white;\n",
       "                    --jp-layout-color2: #454545;\n",
       "                    background-color: #383838;\n",
       "                }\n",
       "\n",
       "                .geemap-dark .jupyter-button {\n",
       "                    --jp-layout-color3: #383838;\n",
       "                }\n",
       "\n",
       "                .geemap-colab {\n",
       "                    background-color: var(--colab-primary-surface-color, white);\n",
       "                }\n",
       "\n",
       "                .geemap-colab .jupyter-button {\n",
       "                    --jp-layout-color3: var(--colab-primary-surface-color, white);\n",
       "                }\n",
       "            </style>\n",
       "            "
      ],
      "text/plain": [
       "<IPython.core.display.HTML object>"
      ]
     },
     "metadata": {},
     "output_type": "display_data"
    }
   ],
   "source": [
    "# Cargar la colección de imágenes y aplicar filtros\n",
    "collection = ee.ImageCollection(\"projects/ee-jesusc461/assets/Imagenes_planet_folder/Collection_planet\") \\\n",
    "              .filterDate('2022-07-01', '2022-07-10') \\\n",
    "              .filterBounds(geometry)\n",
    "\n",
    "# Función para recortar imágenes\n",
    "def clip_image(image):\n",
    "    return image.clip(geometry)\n",
    "\n",
    "# Función para añadir días julianos como una banda\n",
    "def add_julian_band(image):\n",
    "    # Obtener la fecha de adquisición de la imagen\n",
    "    date = ee.Date(image.get('system:time_start'))\n",
    "    \n",
    "    # Calcular los días julianos desde una fecha de referencia\n",
    "    reference_date = ee.Date('2022-07-01')  # Ajusta según tu fecha de referencia\n",
    "    julian_days = date.difference(reference_date, 'day')\n",
    "    \n",
    "    # Crear una imagen constante con los días julianos\n",
    "    julian_band = ee.Image.constant(julian_days).rename('julian_days')\n",
    "    \n",
    "    # Añadir la banda de días julianos\n",
    "    return image.addBands(julian_band)\n",
    "\n",
    "# Función para añadir una banda con el año de la imagen\n",
    "def add_year_band(image):\n",
    "    # Obtener la fecha de adquisición de la imagen\n",
    "    date = ee.Date(image.get('system:time_start'))\n",
    "    \n",
    "    # Extraer el año\n",
    "    year = date.get('year')\n",
    "    \n",
    "    # Crear una imagen constante con el año\n",
    "    year_band = ee.Image.constant(year).rename('year')\n",
    "    \n",
    "    # Añadir la banda del año\n",
    "    return image.addBands(year_band)\n",
    "\n",
    "\n",
    "# Aplicar la función de recorte a cada imagen en la colección\n",
    "collection = collection.map(clip_image)\n",
    "collection = collection.map(add_year_band)\n",
    "collection = collection.map(add_julian_band)\n",
    "\n",
    "# Función para añadir índices espectrales y convertir a float32\n",
    "def addIndices(img):\n",
    "    img = img.toFloat()  # Convertir todas las bandas a float32\n",
    "    \n",
    "    # Cálculo de índices existentes\n",
    "    NDVI = img.normalizedDifference(['nir', 'red']).rename('NDVI')\n",
    "    SR = img.select('nir').divide(img.select('red')).rename('SR')\n",
    "    GCVI = img.expression('(NIR / GREEN) - 1', {'NIR': img.select('nir'), 'GREEN': img.select('green')}).rename('GCVI')\n",
    "    NDWI = img.expression('(GREEN - NIR) / (GREEN + NIR)', {'NIR': img.select('nir'), 'GREEN': img.select('green')}).rename('NDWI')\n",
    "    VARI = img.expression('(GREEN - RED) / (GREEN + RED - BLUE)', {'BLUE': img.select('blue'), 'RED': img.select('red'), 'GREEN': img.select('green')}).rename('VARI')\n",
    "    GRVI = img.expression('NIR / GREEN', {'NIR': img.select('nir'), 'GREEN': img.select('green')}).rename('GRVI')\n",
    "    GNDVI = img.normalizedDifference(['nir', 'green']).rename('GNDVI')\n",
    "    SAVI = img.expression('(NIR - RED) / ((NIR + RED + 0.5) * 1.5)', {'NIR': img.select('nir'), 'RED': img.select('red')}).rename('SAVI')\n",
    "    # Índices adicionales que utilizan el borde rojo\n",
    "    NDRE = img.expression('(NIR - RED_EDGE) / (NIR + RED_EDGE)', {'NIR': img.select('nir'), 'RED_EDGE': img.select('rededge')}).rename('NDRE')\n",
    "    NDVIre = img.expression('(NIR - RED_EDGE) / (NIR + RED_EDGE)', {'NIR': img.select('nir'), 'RED_EDGE': img.select('rededge')}).rename('NDVIre')\n",
    "    REI = img.expression('(RED_EDGE - RED) / (RED_EDGE + RED)', {'RED_EDGE': img.select('rededge'), 'RED': img.select('red')}).rename('REI')\n",
    "    \n",
    "    # Añadiendo todos los índices calculados a la imagen\n",
    "    return img.addBands([NDVI, SR, GCVI, NDWI, VARI, GNDVI, GRVI, SAVI, NDRE, NDVIre, REI])\n",
    "\n",
    "# Aplicar la función de índices a la colección\n",
    "collection_with_indices = collection.map(addIndices)\n",
    "\n",
    "# Agrupar por fecha y obtener el promedio de las imágenes (tiles) por fecha\n",
    "def mosaic_by_date(date, collection):\n",
    "    date_str = ee.Date(date).format('YYYY-MM-dd')\n",
    "    date_collection = collection.filter(ee.Filter.date(ee.Date(date), ee.Date(date).advance(1, 'day')))\n",
    "    mosaic = date_collection.mosaic().set('system:time_start', date).toFloat()  # Promediar y convertir a float32\n",
    "    return mosaic\n",
    "\n",
    "# Obtener las fechas únicas en la colección\n",
    "dates = ee.List(collection_with_indices.aggregate_array('system:time_start')).distinct()\n",
    "\n",
    "# Crear una nueva colección con las imágenes promediadas por fecha\n",
    "mosaicked_collection = ee.ImageCollection(dates.map(lambda date: mosaic_by_date(date, collection_with_indices)))\n",
    "\n",
    "# Aplicar la función a la colección de imágenes\n",
    "ps_1 = collection.map(addIndices)\n",
    "\n",
    "# Crear un composite de las imágenes\n",
    "composite = ps_1.mean().float()\n",
    "\n",
    "# Añadir la capa al mapa\n",
    "Map.addLayer(composite, {'bands': ['nir', 'red', 'green'], 'min': 201, 'max': 2464}, 'RGB')\n",
    "Map.addLayer(geometry)\n"
   ]
  },
  {
   "cell_type": "code",
   "execution_count": 11,
   "metadata": {},
   "outputs": [
    {
     "data": {
      "text/html": [
       "\n",
       "            <style>\n",
       "                .geemap-dark {\n",
       "                    --jp-widgets-color: white;\n",
       "                    --jp-widgets-label-color: white;\n",
       "                    --jp-ui-font-color1: white;\n",
       "                    --jp-layout-color2: #454545;\n",
       "                    background-color: #383838;\n",
       "                }\n",
       "\n",
       "                .geemap-dark .jupyter-button {\n",
       "                    --jp-layout-color3: #383838;\n",
       "                }\n",
       "\n",
       "                .geemap-colab {\n",
       "                    background-color: var(--colab-primary-surface-color, white);\n",
       "                }\n",
       "\n",
       "                .geemap-colab .jupyter-button {\n",
       "                    --jp-layout-color3: var(--colab-primary-surface-color, white);\n",
       "                }\n",
       "            </style>\n",
       "            "
      ],
      "text/plain": [
       "<IPython.core.display.HTML object>"
      ]
     },
     "metadata": {},
     "output_type": "display_data"
    }
   ],
   "source": [
    "# Exportar cada imagen de la colección a Google Drive\n",
    "def export_image(image):\n",
    "    date = image.date().format('YYYY-MM-dd').getInfo()\n",
    "    description = f'Planet_Image_{date}'\n",
    "    \n",
    "    task = ee.batch.Export.image.toDrive(\n",
    "        image=image,\n",
    "        description=description,\n",
    "        scale=3,\n",
    "        region=geometry,\n",
    "        folder='GEE_Exports',\n",
    "        fileFormat='GeoTIFF',\n",
    "        maxPixels=1e13\n",
    "    )\n",
    "    task.start()\n",
    "\n",
    "# Convertir la colección mosaicked a una lista y exportar cada imagen\n",
    "image_list = mosaicked_collection.toList(mosaicked_collection.size())\n",
    "for i in range(image_list.size().getInfo()):\n",
    "    image = ee.Image(image_list.get(i))\n",
    "    export_image(image)"
   ]
  }
 ],
 "metadata": {
  "kernelspec": {
   "display_name": "base",
   "language": "python",
   "name": "python3"
  },
  "language_info": {
   "codemirror_mode": {
    "name": "ipython",
    "version": 3
   },
   "file_extension": ".py",
   "mimetype": "text/x-python",
   "name": "python",
   "nbconvert_exporter": "python",
   "pygments_lexer": "ipython3",
   "version": "3.11.7"
  }
 },
 "nbformat": 4,
 "nbformat_minor": 2
}
