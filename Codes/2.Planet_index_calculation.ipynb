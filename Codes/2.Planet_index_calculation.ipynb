{
 "cells": [
  {
   "cell_type": "markdown",
   "metadata": {},
   "source": [
    "## Extact planet data"
   ]
  },
  {
   "cell_type": "code",
   "execution_count": 1,
   "metadata": {},
   "outputs": [],
   "source": [
    "# Importar las bibliotecas necesarias\n",
    "import geemap\n",
    "import ee\n",
    "import geopandas as gpd\n",
    "import json\n",
    "import pandas as pd"
   ]
  },
  {
   "cell_type": "code",
   "execution_count": 2,
   "metadata": {},
   "outputs": [
    {
     "data": {
      "text/html": [
       "\n",
       "            <style>\n",
       "                .geemap-dark {\n",
       "                    --jp-widgets-color: white;\n",
       "                    --jp-widgets-label-color: white;\n",
       "                    --jp-ui-font-color1: white;\n",
       "                    --jp-layout-color2: #454545;\n",
       "                    background-color: #383838;\n",
       "                }\n",
       "\n",
       "                .geemap-dark .jupyter-button {\n",
       "                    --jp-layout-color3: #383838;\n",
       "                }\n",
       "\n",
       "                .geemap-colab {\n",
       "                    background-color: var(--colab-primary-surface-color, white);\n",
       "                }\n",
       "\n",
       "                .geemap-colab .jupyter-button {\n",
       "                    --jp-layout-color3: var(--colab-primary-surface-color, white);\n",
       "                }\n",
       "            </style>\n",
       "            "
      ],
      "text/plain": [
       "<IPython.core.display.HTML object>"
      ]
     },
     "metadata": {},
     "output_type": "display_data"
    },
    {
     "data": {
      "text/html": [
       "<p>To authorize access needed by Earth Engine, open the following\n",
       "        URL in a web browser and follow the instructions:</p>\n",
       "        <p><a href=https://code.earthengine.google.com/client-auth?scopes=https%3A//www.googleapis.com/auth/earthengine%20https%3A//www.googleapis.com/auth/cloud-platform%20https%3A//www.googleapis.com/auth/devstorage.full_control&request_id=X3GThKilBEU9vIpes5fm3GrngxslNjlcjMSzbq7W7Ok&tc=j4lrWGnoCbUdh2wRDd_UcC8jwNVQyVzFDQ25rSfImeA&cc=uPau24hfywSfQHe8MXu4t36sWH5ltV1cAcNtvU1c2SQ>https://code.earthengine.google.com/client-auth?scopes=https%3A//www.googleapis.com/auth/earthengine%20https%3A//www.googleapis.com/auth/cloud-platform%20https%3A//www.googleapis.com/auth/devstorage.full_control&request_id=X3GThKilBEU9vIpes5fm3GrngxslNjlcjMSzbq7W7Ok&tc=j4lrWGnoCbUdh2wRDd_UcC8jwNVQyVzFDQ25rSfImeA&cc=uPau24hfywSfQHe8MXu4t36sWH5ltV1cAcNtvU1c2SQ</a></p>\n",
       "        <p>The authorization workflow will generate a code, which you should paste in the box below.</p>\n",
       "        "
      ],
      "text/plain": [
       "<IPython.core.display.HTML object>"
      ]
     },
     "metadata": {},
     "output_type": "display_data"
    },
    {
     "name": "stdout",
     "output_type": "stream",
     "text": [
      "\n",
      "Successfully saved authorization token.\n"
     ]
    }
   ],
   "source": [
    "# Autenticación y inicialización de GEE\n",
    "ee.Authenticate()\n",
    "ee.Initialize()\n"
   ]
  },
  {
   "cell_type": "code",
   "execution_count": 2,
   "metadata": {},
   "outputs": [
    {
     "data": {
      "text/html": [
       "\n",
       "            <style>\n",
       "                .geemap-dark {\n",
       "                    --jp-widgets-color: white;\n",
       "                    --jp-widgets-label-color: white;\n",
       "                    --jp-ui-font-color1: white;\n",
       "                    --jp-layout-color2: #454545;\n",
       "                    background-color: #383838;\n",
       "                }\n",
       "\n",
       "                .geemap-dark .jupyter-button {\n",
       "                    --jp-layout-color3: #383838;\n",
       "                }\n",
       "\n",
       "                .geemap-colab {\n",
       "                    background-color: var(--colab-primary-surface-color, white);\n",
       "                }\n",
       "\n",
       "                .geemap-colab .jupyter-button {\n",
       "                    --jp-layout-color3: var(--colab-primary-surface-color, white);\n",
       "                }\n",
       "            </style>\n",
       "            "
      ],
      "text/plain": [
       "<IPython.core.display.HTML object>"
      ]
     },
     "metadata": {},
     "output_type": "display_data"
    },
    {
     "data": {
      "application/vnd.jupyter.widget-view+json": {
       "model_id": "497888a357b045cab47a243ae2a017e7",
       "version_major": 2,
       "version_minor": 0
      },
      "text/plain": [
       "Map(center=[12.2, -16.36], controls=(WidgetControl(options=['position', 'transparent_bg'], widget=SearchDataGU…"
      ]
     },
     "metadata": {},
     "output_type": "display_data"
    }
   ],
   "source": [
    "# Configurar el mapa\n",
    "Map = geemap.Map(center=(12.20, -16.36), zoom=12)\n",
    "Map"
   ]
  },
  {
   "cell_type": "code",
   "execution_count": null,
   "metadata": {},
   "outputs": [],
   "source": [
    "Map.user_roi.getInfo()"
   ]
  },
  {
   "cell_type": "code",
   "execution_count": 4,
   "metadata": {},
   "outputs": [
    {
     "data": {
      "text/html": [
       "\n",
       "            <style>\n",
       "                .geemap-dark {\n",
       "                    --jp-widgets-color: white;\n",
       "                    --jp-widgets-label-color: white;\n",
       "                    --jp-ui-font-color1: white;\n",
       "                    --jp-layout-color2: #454545;\n",
       "                    background-color: #383838;\n",
       "                }\n",
       "\n",
       "                .geemap-dark .jupyter-button {\n",
       "                    --jp-layout-color3: #383838;\n",
       "                }\n",
       "\n",
       "                .geemap-colab {\n",
       "                    background-color: var(--colab-primary-surface-color, white);\n",
       "                }\n",
       "\n",
       "                .geemap-colab .jupyter-button {\n",
       "                    --jp-layout-color3: var(--colab-primary-surface-color, white);\n",
       "                }\n",
       "            </style>\n",
       "            "
      ],
      "text/plain": [
       "<IPython.core.display.HTML object>"
      ]
     },
     "metadata": {},
     "output_type": "display_data"
    }
   ],
   "source": [
    "# Asegurarnos de la creación de una geometría\n",
    "geometry = ee.Geometry.Polygon([[[-16.453217, 12.240196],\n",
    "   [-16.453217, 12.251142],\n",
    "   [-16.427029, 12.251142],\n",
    "   [-16.427029, 12.240196],\n",
    "   [-16.453217, 12.240196]]])"
   ]
  },
  {
   "cell_type": "markdown",
   "metadata": {},
   "source": [
    "Indices a añadir: \n",
    "\n",
    "EVI (bryan)\n",
    "LSWI\n",
    "NDSI\n",
    "RNDVI\n",
    "NDRE\n",
    "MNDWI\n",
    "RVI\n",
    "NDMI\n",
    "\n",
    "NDVI, SR, GCVI, NDWI, VARI, GNDVI, GRVI, SAVI"
   ]
  },
  {
   "cell_type": "code",
   "execution_count": 18,
   "metadata": {},
   "outputs": [
    {
     "data": {
      "text/html": [
       "\n",
       "            <style>\n",
       "                .geemap-dark {\n",
       "                    --jp-widgets-color: white;\n",
       "                    --jp-widgets-label-color: white;\n",
       "                    --jp-ui-font-color1: white;\n",
       "                    --jp-layout-color2: #454545;\n",
       "                    background-color: #383838;\n",
       "                }\n",
       "\n",
       "                .geemap-dark .jupyter-button {\n",
       "                    --jp-layout-color3: #383838;\n",
       "                }\n",
       "\n",
       "                .geemap-colab {\n",
       "                    background-color: var(--colab-primary-surface-color, white);\n",
       "                }\n",
       "\n",
       "                .geemap-colab .jupyter-button {\n",
       "                    --jp-layout-color3: var(--colab-primary-surface-color, white);\n",
       "                }\n",
       "            </style>\n",
       "            "
      ],
      "text/plain": [
       "<IPython.core.display.HTML object>"
      ]
     },
     "metadata": {},
     "output_type": "display_data"
    }
   ],
   "source": [
    "# Cargar el shapefile\n",
    "shapefile_path = '../DataIn/Parcelas_poligono.shp'\n",
    "gdf = gpd.read_file(shapefile_path)\n",
    "\n",
    "# Convertir el GeoDataFrame a GeoJSON y luego a FeatureCollection\n",
    "def geojson_to_ee(gdf):\n",
    "    geojson = json.loads(gdf.to_json())\n",
    "    features = [ee.Feature(ee.Geometry(feature['geometry']), feature['properties']) for feature in geojson['features']]\n",
    "    return ee.FeatureCollection(features)\n",
    "\n",
    "fc = geojson_to_ee(gdf)\n",
    "\n",
    "\n",
    "Map.addLayer(fc)\n",
    "\n",
    "# Definir la colección de imágenes y el área de interés\n",
    "collection = ee.ImageCollection(\"projects/ee-jesusc461/assets/Imagenes_planet_folder/Collection_planet\") \\\n",
    "              .filterDate('2022-07-01', '2024-01-30') \\\n",
    "              .filterBounds(geometry)\n",
    "\n",
    "\n",
    "# Función para recortar imágenes\n",
    "def clip_image(image):\n",
    "    return image.clip(geometry)\n",
    "\n",
    "# Aplicar la función de recorte a cada imagen en la colección\n",
    "collection = collection.map(clip_image)\n",
    "\n",
    "# Función para añadir índices espectrales\n",
    "def addIndices(img):\n",
    "    # Cálculo de índices existentes\n",
    "    NDVI = img.normalizedDifference(['nir', 'red']).rename('NDVI')\n",
    "    SR = img.select('nir').divide(img.select('red')).rename('SR')\n",
    "    GCVI = img.expression('(NIR / GREEN) - 1', {'NIR': img.select('nir'), 'GREEN': img.select('green')}).rename('GCVI')\n",
    "    NDWI = img.expression('(GREEN - NIR) / (GREEN + NIR)', {'NIR': img.select('nir'), 'GREEN': img.select('green')}).rename('NDWI')\n",
    "    VARI = img.expression('(GREEN - RED) / (GREEN + RED - BLUE)', {'BLUE': img.select('blue'), 'RED': img.select('red'), 'GREEN': img.select('green')}).rename('VARI')\n",
    "    GRVI = img.expression('NIR / GREEN', {'NIR': img.select('nir'), 'GREEN': img.select('green')}).rename('GRVI')\n",
    "    GNDVI = img.normalizedDifference(['nir', 'green']).rename('GNDVI')\n",
    "    SAVI = img.expression('(NIR - RED) / ((NIR + RED + 0.5) * 1.5)', {'NIR': img.select('nir'), 'RED': img.select('red')}).rename('SAVI')\n",
    "    # Índices adicionales que utilizan el borde rojo\n",
    "    NDRE = img.expression('(NIR - RED_EDGE) / (NIR + RED_EDGE)', {'NIR': img.select('nir'), 'RED_EDGE': img.select('rededge')}).rename('NDRE')\n",
    "    NDVIre = img.expression('(NIR - RED_EDGE) / (NIR + RED_EDGE)', {'NIR': img.select('nir'), 'RED_EDGE': img.select('rededge')}).rename('NDVIre')\n",
    "    REI = img.expression('(RED_EDGE - RED) / (RED_EDGE + RED)', {'RED_EDGE': img.select('rededge'), 'RED': img.select('red')}).rename('REI')\n",
    "    \n",
    "    # Añadiendo todos los índices calculados a la imagen\n",
    "    return img.addBands([\n",
    "        NDVI, SR, GCVI, NDWI, VARI, GNDVI, GRVI, SAVI, \n",
    "        NDRE, NDVIre, REI\n",
    "    ])\n",
    "\n",
    "# Aplicar la función a la colección de imágenes\n",
    "ps_1 = collection.map(addIndices)\n",
    "\n",
    "# Crear un composite de las imágenes\n",
    "composite = ps_1.mean().float()\n",
    "\n",
    "# Añadir la capa al mapa\n",
    "Map.addLayer(composite, {'bands': ['nir', 'red', 'green'], 'min': 201, 'max': 2464}, 'RGB')\n",
    "Map.addLayer(geometry)\n"
   ]
  },
  {
   "cell_type": "code",
   "execution_count": 19,
   "metadata": {},
   "outputs": [
    {
     "data": {
      "text/html": [
       "\n",
       "            <style>\n",
       "                .geemap-dark {\n",
       "                    --jp-widgets-color: white;\n",
       "                    --jp-widgets-label-color: white;\n",
       "                    --jp-ui-font-color1: white;\n",
       "                    --jp-layout-color2: #454545;\n",
       "                    background-color: #383838;\n",
       "                }\n",
       "\n",
       "                .geemap-dark .jupyter-button {\n",
       "                    --jp-layout-color3: #383838;\n",
       "                }\n",
       "\n",
       "                .geemap-colab {\n",
       "                    background-color: var(--colab-primary-surface-color, white);\n",
       "                }\n",
       "\n",
       "                .geemap-colab .jupyter-button {\n",
       "                    --jp-layout-color3: var(--colab-primary-surface-color, white);\n",
       "                }\n",
       "            </style>\n",
       "            "
      ],
      "text/plain": [
       "<IPython.core.display.HTML object>"
      ]
     },
     "metadata": {},
     "output_type": "display_data"
    }
   ],
   "source": [
    "# Convertir el GeoDataFrame a GeoJSON y luego a FeatureCollection\n",
    "def geojson_to_ee(gdf):\n",
    "    geojson = json.loads(gdf.to_json())\n",
    "    features = [ee.Feature(ee.Geometry(feature['geometry']), feature['properties']) for feature in geojson['features']]\n",
    "    return ee.FeatureCollection(features)\n",
    "\n",
    "fc = geojson_to_ee(gdf)\n"
   ]
  },
  {
   "cell_type": "code",
   "execution_count": 20,
   "metadata": {},
   "outputs": [
    {
     "data": {
      "text/html": [
       "\n",
       "            <style>\n",
       "                .geemap-dark {\n",
       "                    --jp-widgets-color: white;\n",
       "                    --jp-widgets-label-color: white;\n",
       "                    --jp-ui-font-color1: white;\n",
       "                    --jp-layout-color2: #454545;\n",
       "                    background-color: #383838;\n",
       "                }\n",
       "\n",
       "                .geemap-dark .jupyter-button {\n",
       "                    --jp-layout-color3: #383838;\n",
       "                }\n",
       "\n",
       "                .geemap-colab {\n",
       "                    background-color: var(--colab-primary-surface-color, white);\n",
       "                }\n",
       "\n",
       "                .geemap-colab .jupyter-button {\n",
       "                    --jp-layout-color3: var(--colab-primary-surface-color, white);\n",
       "                }\n",
       "            </style>\n",
       "            "
      ],
      "text/plain": [
       "<IPython.core.display.HTML object>"
      ]
     },
     "metadata": {},
     "output_type": "display_data"
    }
   ],
   "source": [
    "\n",
    "# Extraer datos para cada polígono y cada imagen\n",
    "def extract_data(image):\n",
    "    def zonal_stats(feature):\n",
    "        stats = image.reduceRegion(\n",
    "            reducer=ee.Reducer.mean(),\n",
    "            geometry=feature.geometry(),\n",
    "            scale=3,  #\n",
    "            maxPixels=1e9\n",
    "        )\n",
    "        return feature.set(stats).set({'image_date': image.date().format('YYYY-MM-dd')})\n",
    "    \n",
    "    return fc.map(zonal_stats)\n",
    "\n",
    "# Iterar sobre la colección y extraer datos\n",
    "results = []\n",
    "image_list = collection.toList(collection.size())\n",
    "\n",
    "for i in range(collection.size().getInfo()):\n",
    "    image = ee.Image(image_list.get(i))\n",
    "    image = addIndices(image)\n",
    "    data = extract_data(image).getInfo()\n",
    "    \n",
    "    for feature in data['features']:\n",
    "        properties = feature['properties']\n",
    "        properties['geometry'] = feature['geometry']\n",
    "        results.append(properties)"
   ]
  },
  {
   "cell_type": "code",
   "execution_count": 21,
   "metadata": {},
   "outputs": [
    {
     "data": {
      "text/html": [
       "\n",
       "            <style>\n",
       "                .geemap-dark {\n",
       "                    --jp-widgets-color: white;\n",
       "                    --jp-widgets-label-color: white;\n",
       "                    --jp-ui-font-color1: white;\n",
       "                    --jp-layout-color2: #454545;\n",
       "                    background-color: #383838;\n",
       "                }\n",
       "\n",
       "                .geemap-dark .jupyter-button {\n",
       "                    --jp-layout-color3: #383838;\n",
       "                }\n",
       "\n",
       "                .geemap-colab {\n",
       "                    background-color: var(--colab-primary-surface-color, white);\n",
       "                }\n",
       "\n",
       "                .geemap-colab .jupyter-button {\n",
       "                    --jp-layout-color3: var(--colab-primary-surface-color, white);\n",
       "                }\n",
       "            </style>\n",
       "            "
      ],
      "text/plain": [
       "<IPython.core.display.HTML object>"
      ]
     },
     "metadata": {},
     "output_type": "display_data"
    },
    {
     "name": "stdout",
     "output_type": "stream",
     "text": [
      "Exportación completada.\n"
     ]
    }
   ],
   "source": [
    "# Convertir los resultados a un DataFrame de pandas\n",
    "df = pd.DataFrame(results)\n",
    "\n",
    "# Exportar a un archivo CSV\n",
    "df.to_csv('../Results/output_indices_planet.csv', index=False)\n",
    "\n",
    "print('Exportación completada.')"
   ]
  }
 ],
 "metadata": {
  "kernelspec": {
   "display_name": "base",
   "language": "python",
   "name": "python3"
  },
  "language_info": {
   "codemirror_mode": {
    "name": "ipython",
    "version": 3
   },
   "file_extension": ".py",
   "mimetype": "text/x-python",
   "name": "python",
   "nbconvert_exporter": "python",
   "pygments_lexer": "ipython3",
   "version": "3.11.7"
  }
 },
 "nbformat": 4,
 "nbformat_minor": 2
}
