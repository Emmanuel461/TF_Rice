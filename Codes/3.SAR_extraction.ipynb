{
 "cells": [
  {
   "cell_type": "markdown",
   "metadata": {},
   "source": []
  },
  {
   "cell_type": "code",
   "execution_count": 1,
   "metadata": {},
   "outputs": [],
   "source": [
    "# Import the libraries\n",
    "import geemap\n",
    "import ee\n",
    "from pydrive.auth import GoogleAuth\n",
    "from pydrive.drive import GoogleDrive\n",
    "import geopandas as gpd"
   ]
  },
  {
   "cell_type": "code",
   "execution_count": 2,
   "metadata": {},
   "outputs": [
    {
     "data": {
      "text/html": [
       "\n",
       "            <style>\n",
       "                .geemap-dark {\n",
       "                    --jp-widgets-color: white;\n",
       "                    --jp-widgets-label-color: white;\n",
       "                    --jp-ui-font-color1: white;\n",
       "                    --jp-layout-color2: #454545;\n",
       "                    background-color: #383838;\n",
       "                }\n",
       "\n",
       "                .geemap-dark .jupyter-button {\n",
       "                    --jp-layout-color3: #383838;\n",
       "                }\n",
       "\n",
       "                .geemap-colab {\n",
       "                    background-color: var(--colab-primary-surface-color, white);\n",
       "                }\n",
       "\n",
       "                .geemap-colab .jupyter-button {\n",
       "                    --jp-layout-color3: var(--colab-primary-surface-color, white);\n",
       "                }\n",
       "            </style>\n",
       "            "
      ],
      "text/plain": [
       "<IPython.core.display.HTML object>"
      ]
     },
     "metadata": {},
     "output_type": "display_data"
    },
    {
     "data": {
      "text/plain": [
       "True"
      ]
     },
     "execution_count": 2,
     "metadata": {},
     "output_type": "execute_result"
    }
   ],
   "source": [
    "# Authenticate your GEE account\n",
    "ee.Authenticate()"
   ]
  },
  {
   "cell_type": "code",
   "execution_count": 3,
   "metadata": {},
   "outputs": [
    {
     "data": {
      "text/html": [
       "\n",
       "            <style>\n",
       "                .geemap-dark {\n",
       "                    --jp-widgets-color: white;\n",
       "                    --jp-widgets-label-color: white;\n",
       "                    --jp-ui-font-color1: white;\n",
       "                    --jp-layout-color2: #454545;\n",
       "                    background-color: #383838;\n",
       "                }\n",
       "\n",
       "                .geemap-dark .jupyter-button {\n",
       "                    --jp-layout-color3: #383838;\n",
       "                }\n",
       "\n",
       "                .geemap-colab {\n",
       "                    background-color: var(--colab-primary-surface-color, white);\n",
       "                }\n",
       "\n",
       "                .geemap-colab .jupyter-button {\n",
       "                    --jp-layout-color3: var(--colab-primary-surface-color, white);\n",
       "                }\n",
       "            </style>\n",
       "            "
      ],
      "text/plain": [
       "<IPython.core.display.HTML object>"
      ]
     },
     "metadata": {},
     "output_type": "display_data"
    }
   ],
   "source": [
    "# Initialize GEE \n",
    "ee.Initialize()"
   ]
  },
  {
   "cell_type": "code",
   "execution_count": 4,
   "metadata": {},
   "outputs": [
    {
     "data": {
      "text/html": [
       "\n",
       "            <style>\n",
       "                .geemap-dark {\n",
       "                    --jp-widgets-color: white;\n",
       "                    --jp-widgets-label-color: white;\n",
       "                    --jp-ui-font-color1: white;\n",
       "                    --jp-layout-color2: #454545;\n",
       "                    background-color: #383838;\n",
       "                }\n",
       "\n",
       "                .geemap-dark .jupyter-button {\n",
       "                    --jp-layout-color3: #383838;\n",
       "                }\n",
       "\n",
       "                .geemap-colab {\n",
       "                    background-color: var(--colab-primary-surface-color, white);\n",
       "                }\n",
       "\n",
       "                .geemap-colab .jupyter-button {\n",
       "                    --jp-layout-color3: var(--colab-primary-surface-color, white);\n",
       "                }\n",
       "            </style>\n",
       "            "
      ],
      "text/plain": [
       "<IPython.core.display.HTML object>"
      ]
     },
     "metadata": {},
     "output_type": "display_data"
    },
    {
     "data": {
      "application/vnd.jupyter.widget-view+json": {
       "model_id": "0f6074e2e9814c6e98c6799df24d4687",
       "version_major": 2,
       "version_minor": 0
      },
      "text/plain": [
       "Map(center=[12.2, -16.36], controls=(WidgetControl(options=['position', 'transparent_bg'], widget=SearchDataGU…"
      ]
     },
     "metadata": {},
     "output_type": "display_data"
    }
   ],
   "source": [
    "# Add a map to display the image and index\n",
    "Map = geemap.Map(center = (12.20, -16.36), zoom = 12)\n",
    "Map"
   ]
  },
  {
   "cell_type": "code",
   "execution_count": 5,
   "metadata": {},
   "outputs": [
    {
     "data": {
      "text/html": [
       "\n",
       "            <style>\n",
       "                .geemap-dark {\n",
       "                    --jp-widgets-color: white;\n",
       "                    --jp-widgets-label-color: white;\n",
       "                    --jp-ui-font-color1: white;\n",
       "                    --jp-layout-color2: #454545;\n",
       "                    background-color: #383838;\n",
       "                }\n",
       "\n",
       "                .geemap-dark .jupyter-button {\n",
       "                    --jp-layout-color3: #383838;\n",
       "                }\n",
       "\n",
       "                .geemap-colab {\n",
       "                    background-color: var(--colab-primary-surface-color, white);\n",
       "                }\n",
       "\n",
       "                .geemap-colab .jupyter-button {\n",
       "                    --jp-layout-color3: var(--colab-primary-surface-color, white);\n",
       "                }\n",
       "            </style>\n",
       "            "
      ],
      "text/plain": [
       "<IPython.core.display.HTML object>"
      ]
     },
     "metadata": {},
     "output_type": "display_data"
    }
   ],
   "source": [
    "# Asegurarnos de la creación de una geometría\n",
    "geometry = ee.Geometry.Polygon([[[-16.458035, 12.233829],\n",
    "   [-16.421471, 12.233829],\n",
    "   [-16.421471, 12.257315],\n",
    "   [-16.458035, 12.257315],\n",
    "   [-16.458035, 12.233829]]])"
   ]
  },
  {
   "cell_type": "code",
   "execution_count": 13,
   "metadata": {},
   "outputs": [
    {
     "data": {
      "text/html": [
       "\n",
       "            <style>\n",
       "                .geemap-dark {\n",
       "                    --jp-widgets-color: white;\n",
       "                    --jp-widgets-label-color: white;\n",
       "                    --jp-ui-font-color1: white;\n",
       "                    --jp-layout-color2: #454545;\n",
       "                    background-color: #383838;\n",
       "                }\n",
       "\n",
       "                .geemap-dark .jupyter-button {\n",
       "                    --jp-layout-color3: #383838;\n",
       "                }\n",
       "\n",
       "                .geemap-colab {\n",
       "                    background-color: var(--colab-primary-surface-color, white);\n",
       "                }\n",
       "\n",
       "                .geemap-colab .jupyter-button {\n",
       "                    --jp-layout-color3: var(--colab-primary-surface-color, white);\n",
       "                }\n",
       "            </style>\n",
       "            "
      ],
      "text/plain": [
       "<IPython.core.display.HTML object>"
      ]
     },
     "metadata": {},
     "output_type": "display_data"
    }
   ],
   "source": [
    "# Definir la colección de imágenes y el área de interés\n",
    "collection = ee.ImageCollection(\"projects/ee-jesusc461/assets/Imagenes_planet_folder/SAR_collection\") \\\n",
    "              .filterDate('2022-07-01', '2024-01-30') \\\n",
    "              .filterBounds(geometry)"
   ]
  },
  {
   "cell_type": "code",
   "execution_count": 14,
   "metadata": {},
   "outputs": [
    {
     "data": {
      "text/html": [
       "\n",
       "            <style>\n",
       "                .geemap-dark {\n",
       "                    --jp-widgets-color: white;\n",
       "                    --jp-widgets-label-color: white;\n",
       "                    --jp-ui-font-color1: white;\n",
       "                    --jp-layout-color2: #454545;\n",
       "                    background-color: #383838;\n",
       "                }\n",
       "\n",
       "                .geemap-dark .jupyter-button {\n",
       "                    --jp-layout-color3: #383838;\n",
       "                }\n",
       "\n",
       "                .geemap-colab {\n",
       "                    background-color: var(--colab-primary-surface-color, white);\n",
       "                }\n",
       "\n",
       "                .geemap-colab .jupyter-button {\n",
       "                    --jp-layout-color3: var(--colab-primary-surface-color, white);\n",
       "                }\n",
       "            </style>\n",
       "            "
      ],
      "text/plain": [
       "<IPython.core.display.HTML object>"
      ]
     },
     "metadata": {},
     "output_type": "display_data"
    }
   ],
   "source": [
    "import geopandas as gpd\n",
    "\n",
    "# Cargar el shapefile\n",
    "shapefile_path = '../DataIn/Parcelas_poligono.shp'\n",
    "gdf = gpd.read_file(shapefile_path)"
   ]
  },
  {
   "cell_type": "code",
   "execution_count": 15,
   "metadata": {},
   "outputs": [
    {
     "data": {
      "text/html": [
       "\n",
       "            <style>\n",
       "                .geemap-dark {\n",
       "                    --jp-widgets-color: white;\n",
       "                    --jp-widgets-label-color: white;\n",
       "                    --jp-ui-font-color1: white;\n",
       "                    --jp-layout-color2: #454545;\n",
       "                    background-color: #383838;\n",
       "                }\n",
       "\n",
       "                .geemap-dark .jupyter-button {\n",
       "                    --jp-layout-color3: #383838;\n",
       "                }\n",
       "\n",
       "                .geemap-colab {\n",
       "                    background-color: var(--colab-primary-surface-color, white);\n",
       "                }\n",
       "\n",
       "                .geemap-colab .jupyter-button {\n",
       "                    --jp-layout-color3: var(--colab-primary-surface-color, white);\n",
       "                }\n",
       "            </style>\n",
       "            "
      ],
      "text/plain": [
       "<IPython.core.display.HTML object>"
      ]
     },
     "metadata": {},
     "output_type": "display_data"
    },
    {
     "name": "stdout",
     "output_type": "stream",
     "text": [
      "{'type': 'FeatureCollection', 'columns': {'area_ha': 'Float', 'area_m2': 'Float', 'location_i': 'String', 'polygon_id': 'Integer', 'system:index': 'String'}, 'features': [{'type': 'Feature', 'geometry': {'type': 'Polygon', 'coordinates': [[[-16.45194989308384, 12.245266561121108], [-16.451980836287003, 12.24523403971215], [-16.45199601597157, 12.24521578207729], [-16.45200243814581, 12.245201518299176], [-16.452001270477773, 12.245188966173801], [-16.45197733328287, 12.245168996882203], [-16.451946973913728, 12.245141610422696], [-16.45193529723329, 12.24513134049965], [-16.451927707391004, 12.245122782230135], [-16.451924788220897, 12.245116506165651], [-16.4519142792085, 12.24513134049965], [-16.45190552169817, 12.245142180973966], [-16.451897348021863, 12.245148457037839], [-16.451889758179576, 12.245154733101566], [-16.45188158450327, 12.24516100916514], [-16.451875162329028, 12.245169567433413], [-16.451867572486744, 12.245174131843044], [-16.451867572486744, 12.245179837354975], [-16.451876913831093, 12.245182119559706], [-16.451883919839357, 12.245202659401452], [-16.451889758179576, 12.24522605199705], [-16.451907273200238, 12.245254008998822], [-16.451924204386874, 12.245265990570104], [-16.451938216403395, 12.245269413876088], [-16.45194989308384, 12.245266561121108]]]}, 'id': '0', 'properties': {'area_ha': 0.014, 'area_m2': 140.182, 'location_i': '3', 'polygon_id': 1}}, {'type': 'Feature', 'geometry': {'type': 'Polygon', 'coordinates': [[[-16.448905782493377, 12.244388481672965], [-16.448888851306737, 12.244365659556099], [-16.448884764468584, 12.244359954026573], [-16.44887775846032, 12.24435139573206], [-16.44886783328195, 12.244349113520142], [-16.448840976916937, 12.244350825179081], [-16.448800108535398, 12.244353107390987], [-16.448780842012674, 12.244356530708805], [-16.448744060469295, 12.244361095132488], [-16.448719539440372, 12.244363377344307], [-16.44870669509189, 12.244365659556099], [-16.448697353747537, 12.244398181072032], [-16.448688012403185, 12.244452383589689], [-16.44868100639492, 12.244501451122389], [-16.448688012403185, 12.24451742659618], [-16.44875573714973, 12.244540248699927], [-16.448811785215835, 12.244555653618837], [-16.448873671622163, 12.244560218039085], [-16.448905782493377, 12.244388481672965]]]}, 'id': '1', 'properties': {'area_ha': 0.0454, 'area_m2': 587.821, 'location_i': '4', 'polygon_id': 2}}, {'type': 'Feature', 'geometry': {'type': 'Polygon', 'coordinates': [[[-16.443595228229682, 12.243480159898578], [-16.443602818071973, 12.24347217213042], [-16.4436115755823, 12.243457337703198], [-16.44362967443698, 12.24343166273104], [-16.443683387167, 12.243348361693071], [-16.443718417208316, 12.243271907292618], [-16.44373709989702, 12.243228545085511], [-16.44372892622071, 12.24322341008683], [-16.443685138669064, 12.243215992866336], [-16.443629090602958, 12.243194882314558], [-16.443626171432847, 12.24319830564739], [-16.443617997756544, 12.243213140089168], [-16.443601066569904, 12.24324223841484], [-16.443578880877073, 12.243271907292618], [-16.443550856844013, 12.243308422829925], [-16.44352108130889, 12.24335349668932], [-16.44350823696041, 12.243380312779232], [-16.443502398620193, 12.24340313498127], [-16.44349889561606, 12.24343166273104], [-16.443507069292366, 12.243434515505848], [-16.44352108130889, 12.243438509390526], [-16.44353859632955, 12.243448208824493], [-16.443595228229682, 12.243480159898578]]]}, 'id': '2', 'properties': {'area_ha': 0.0417, 'area_m2': 417.453, 'location_i': '1', 'polygon_id': 3}}, {'type': 'Feature', 'geometry': {'type': 'Polygon', 'coordinates': [[[-16.440248691615857, 12.248597987383555], [-16.440239350271504, 12.248594564120742], [-16.440230008927152, 12.248599128471147], [-16.440183302205398, 12.248615103696947], [-16.440020996347293, 12.248677863503232], [-16.43997779262967, 12.24870296742157], [-16.43997195428945, 12.248732635685611], [-16.439976624961627, 12.248772573728091], [-16.439997642986413, 12.248821640457733], [-16.44001982867925, 12.24887184826466], [-16.44004318204013, 12.248904939768547], [-16.44006186472883, 12.248922056062035], [-16.440099230106238, 12.24893574909603], [-16.44015060750017, 12.248954006473573], [-16.440197314221923, 12.248969981677895], [-16.44024402094368, 12.248966558419903], [-16.44029539833761, 12.248926620406777], [-16.44033393138306, 12.248853590881426], [-16.44036312308416, 12.248788548943395], [-16.440370129092425, 12.248752034164143], [-16.44036312308416, 12.248732635685611], [-16.440325757706756, 12.248685851113867], [-16.440248691615857, 12.248597987383555]]]}, 'id': '3', 'properties': {'area_ha': 0.1239, 'area_m2': 1239.167, 'location_i': '5', 'polygon_id': 4}}, {'type': 'Feature', 'geometry': {'type': 'Polygon', 'coordinates': [[[-16.44461947958811, 12.24446298175309], [-16.44461861915525, 12.244456927565357], [-16.444599861718853, 12.244416566310301], [-16.444547547400834, 12.244308936266645], [-16.444518636856664, 12.244238976714735], [-16.444486284581053, 12.244140091547248], [-16.444469764270103, 12.244067441196513], [-16.444459439075757, 12.244068113885033], [-16.444426398453853, 12.244075513458688], [-16.444376149174705, 12.244083585720624], [-16.44435343374714, 12.244088294539972], [-16.444299742736547, 12.244099730243752], [-16.444295612658806, 12.244123274338206], [-16.444299054390253, 12.244145473053914], [-16.444301119429127, 12.244175744026869], [-16.44430284029485, 12.244337189157353], [-16.444300086909692, 12.244432038125472], [-16.444300775255975, 12.244485853127692], [-16.444309723757748, 12.244490561939863], [-16.444328309107565, 12.244496616126822], [-16.44435653130545, 12.24449997956396], [-16.444386130195902, 12.24450065225138], [-16.4444398212065, 12.24450468837588], [-16.44448731710049, 12.244502670313636], [-16.44451209756692, 12.244496616126822], [-16.444531371263025, 12.244493925377082], [-16.444563035192353, 12.244487871190064], [-16.444600894238288, 12.244478453565534], [-16.444614661164085, 12.244472399378164], [-16.44461947958811, 12.24446298175309]]]}, 'id': '4', 'properties': {'area_ha': 0.121, 'area_m2': 1209.867, 'location_i': '2', 'polygon_id': 5}}]}\n"
     ]
    }
   ],
   "source": [
    "import geopandas as gpd\n",
    "import json\n",
    "import ee\n",
    "import geemap\n",
    "\n",
    "# Inicializa Earth Engine\n",
    "ee.Initialize()\n",
    "\n",
    "\n",
    "# Cargar el shapefile\n",
    "shapefile_path = '../DataIn/Parcelas_poligono.shp'\n",
    "gdf = gpd.read_file(shapefile_path)\n",
    "\n",
    "# Convertir el GeoDataFrame a GeoJSON\n",
    "geojson = json.loads(gdf.to_json())\n",
    "\n",
    "# Convertir el GeoJSON a ee.FeatureCollection\n",
    "def geojson_to_ee(geojson):\n",
    "    features = []\n",
    "    for feature in geojson['features']:\n",
    "        geom = feature['geometry']\n",
    "        props = feature['properties']\n",
    "        ee_geom = ee.Geometry(geom)\n",
    "        ee_feature = ee.Feature(ee_geom, props)\n",
    "        features.append(ee_feature)\n",
    "    return ee.FeatureCollection(features)\n",
    "\n",
    "fc = geojson_to_ee(geojson)\n",
    "\n",
    "print(fc.getInfo())  # Verifica la conversión"
   ]
  },
  {
   "cell_type": "code",
   "execution_count": 16,
   "metadata": {},
   "outputs": [
    {
     "data": {
      "text/html": [
       "\n",
       "            <style>\n",
       "                .geemap-dark {\n",
       "                    --jp-widgets-color: white;\n",
       "                    --jp-widgets-label-color: white;\n",
       "                    --jp-ui-font-color1: white;\n",
       "                    --jp-layout-color2: #454545;\n",
       "                    background-color: #383838;\n",
       "                }\n",
       "\n",
       "                .geemap-dark .jupyter-button {\n",
       "                    --jp-layout-color3: #383838;\n",
       "                }\n",
       "\n",
       "                .geemap-colab {\n",
       "                    background-color: var(--colab-primary-surface-color, white);\n",
       "                }\n",
       "\n",
       "                .geemap-colab .jupyter-button {\n",
       "                    --jp-layout-color3: var(--colab-primary-surface-color, white);\n",
       "                }\n",
       "            </style>\n",
       "            "
      ],
      "text/plain": [
       "<IPython.core.display.HTML object>"
      ]
     },
     "metadata": {},
     "output_type": "display_data"
    }
   ],
   "source": [
    "import pandas as pd\n",
    "\n",
    "# Extraer datos para cada polígono y cada imagen\n",
    "def extract_data(image):\n",
    "    def zonal_stats(feature):\n",
    "        stats = image.reduceRegion(\n",
    "            reducer=ee.Reducer.mean(),\n",
    "            geometry=feature.geometry(),\n",
    "            scale=3,  #\n",
    "            maxPixels=1e9\n",
    "        )\n",
    "        return feature.set(stats).set({'image_date': image.date().format('YYYY-MM-dd')})\n",
    "    \n",
    "    return fc.map(zonal_stats)\n",
    "\n",
    "# Iterar sobre la colección y extraer datos\n",
    "results = []\n",
    "image_list = collection.toList(collection.size())\n",
    "\n",
    "for i in range(collection.size().getInfo()):\n",
    "    image = ee.Image(image_list.get(i))\n",
    "    image = image # anny operation/index should be defined in a previous functions like addindex() and mapped here to be included in the calculations\n",
    "    data = extract_data(image).getInfo()\n",
    "    \n",
    "    for feature in data['features']:\n",
    "        properties = feature['properties']\n",
    "        properties['geometry'] = feature['geometry']\n",
    "        results.append(properties)"
   ]
  },
  {
   "cell_type": "code",
   "execution_count": 17,
   "metadata": {},
   "outputs": [
    {
     "data": {
      "text/html": [
       "\n",
       "            <style>\n",
       "                .geemap-dark {\n",
       "                    --jp-widgets-color: white;\n",
       "                    --jp-widgets-label-color: white;\n",
       "                    --jp-ui-font-color1: white;\n",
       "                    --jp-layout-color2: #454545;\n",
       "                    background-color: #383838;\n",
       "                }\n",
       "\n",
       "                .geemap-dark .jupyter-button {\n",
       "                    --jp-layout-color3: #383838;\n",
       "                }\n",
       "\n",
       "                .geemap-colab {\n",
       "                    background-color: var(--colab-primary-surface-color, white);\n",
       "                }\n",
       "\n",
       "                .geemap-colab .jupyter-button {\n",
       "                    --jp-layout-color3: var(--colab-primary-surface-color, white);\n",
       "                }\n",
       "            </style>\n",
       "            "
      ],
      "text/plain": [
       "<IPython.core.display.HTML object>"
      ]
     },
     "metadata": {},
     "output_type": "display_data"
    },
    {
     "name": "stdout",
     "output_type": "stream",
     "text": [
      "Exportación completada.\n"
     ]
    }
   ],
   "source": [
    "# Convertir los resultados a un DataFrame de pandas\n",
    "df = pd.DataFrame(results)\n",
    "\n",
    "# Exportar a un archivo CSV\n",
    "df.to_csv('../Results/output_indices_sentinel_1.csv', index=False)\n",
    "\n",
    "print('Exportación completada.')"
   ]
  }
 ],
 "metadata": {
  "kernelspec": {
   "display_name": "base",
   "language": "python",
   "name": "python3"
  },
  "language_info": {
   "codemirror_mode": {
    "name": "ipython",
    "version": 3
   },
   "file_extension": ".py",
   "mimetype": "text/x-python",
   "name": "python",
   "nbconvert_exporter": "python",
   "pygments_lexer": "ipython3",
   "version": "3.11.7"
  }
 },
 "nbformat": 4,
 "nbformat_minor": 2
}
